{
 "cells": [
  {
   "cell_type": "markdown",
   "metadata": {},
   "source": [
    "![Institute of Coding](assets/header.svg)\n",
    "\n",
    " \n",
    "\n",
    "![Introduction to TensorFlow 2.0 and Keras with Face Recognition](assets/face-recog-tf2/tf-header.svg)\n",
    "\n",
    "In this notebook, we will continue on our Face Recognition with SVM notebook and replicate the work has been done using the Google's TensorFlow 2.0 library. We will create a Convolutional Neural Network model for face recognition, train it on the same data we used earlier and test it against the test set. \n",
    "\n",
    "*If you don't have a decent hardware, you can run this notebook inside the Google Colab.*"
   ]
  },
  {
   "cell_type": "markdown",
   "metadata": {
    "colab_type": "text",
    "id": "YxKmd0YUayAc"
   },
   "source": [
    "When running in the Colab, we need to switch to Tensorflow 2.0+. This can be done easily using the magic function: `%tensorflow_version 2.x`. \n",
    "\n",
    "If you run this code on your local machine, you can skip or remove the following cell."
   ]
  },
  {
   "cell_type": "code",
   "execution_count": null,
   "metadata": {
    "colab": {
     "base_uri": "https://localhost:8080/",
     "height": 52
    },
    "colab_type": "code",
    "id": "Gi3Kk0oisvZz",
    "outputId": "946edbb5-939b-4963-830b-d5a9ef98866d"
   },
   "outputs": [],
   "source": [
    "import sys\n",
    "IN_COLAB = 'google.colab' in sys.modules\n",
    "if IN_COLAB:\n",
    "    %tensorflow_version 2.x\n",
    "    import tensorflow as tf\n",
    "    print(f\"Running in Colab with Tensorflow version: {tf.__version__}\")"
   ]
  },
  {
   "cell_type": "markdown",
   "metadata": {
    "colab_type": "text",
    "id": "hVQyfirgb_Qx"
   },
   "source": [
    "Let's import the face dataset we previously used using the scikit-learn. This is exactly the same and nothing changed here."
   ]
  },
  {
   "cell_type": "code",
   "execution_count": null,
   "metadata": {
    "colab": {},
    "colab_type": "code",
    "id": "orj5NpK0hr6p"
   },
   "outputs": [],
   "source": [
    "from sklearn import datasets\n",
    "data = datasets.fetch_olivetti_faces()"
   ]
  },
  {
   "cell_type": "markdown",
   "metadata": {
    "colab_type": "text",
    "id": "zea1Aopydb0_"
   },
   "source": [
    "Then, we need to prepare our data for deep learning model.\n",
    "Colored images,most of the time, are represented with 3 different matrixes consist of different colours/channel information. These colours are **Red**, **Green**, and **Blue**, or `RGB` in short. Therefore, an image with the size of `128 x 128` can be represented as a `128x128x3`, or `3x128x128`. The number of channels/colours can be represented either as the first or last dimension.\n",
    "\n",
    "Since all the face images are grayscale, we only have one channel/colour which is black. The numbers inside this matrix indicates how bright or how dark is each pixel. The closer to 1 the brigher the pixel, and the closer to 0, the darker the pixel. \n",
    "\n"
   ]
  },
  {
   "cell_type": "code",
   "execution_count": null,
   "metadata": {
    "colab": {},
    "colab_type": "code",
    "id": "sflAz0HrrXIg"
   },
   "outputs": [],
   "source": [
    "import tensorflow as tf\n",
    "import numpy as np\n",
    "import cv2\n",
    "\n",
    "# rename dataset for easy access\n",
    "X = data[\"images\"]\n",
    "y = data[\"target\"]\n",
    "\n",
    "num_class = len(set(y)) # number of different people in the dataset\n",
    "X = np.expand_dims(X, -1) # add an axis for channel information"
   ]
  },
  {
   "cell_type": "markdown",
   "metadata": {
    "colab_type": "text",
    "id": "I_KpeOC_fM9y"
   },
   "source": [
    "We can identify people inside this data with the `y` variable. `y` is an ordinally encoded variable which every people is represented with a unique number starting from 0. \n",
    "\n",
    "For this deep learning model, we need to convert these `y` variable into a vector which will be unique for each person. This vector will be made of zeros and only one `1` value, representing the class/person. This is called **One-hot Encoding**.\n",
    "\n",
    "Suppose that we have 3 people in this dataset and we represent those people as `1`, `2`, and `3`. When converting these into **one-hot encoded vectors** 1 becomes `[1 0 0]`, 2 becomes `[0 1 0]`, and 3 becomes `[0 0 1]`. The order of the number becomes 1 while rest of the vector is filled with zero. \n",
    "\n",
    "How can we convert our `y` variable to one-hot encoded vectors? Well, we can use Tensorflow's `one_hot` function as follows:"
   ]
  },
  {
   "cell_type": "code",
   "execution_count": null,
   "metadata": {
    "colab": {},
    "colab_type": "code",
    "id": "EhE8avKcfNo2"
   },
   "outputs": [],
   "source": [
    "y = tf.one_hot(y, depth=num_class).numpy() # convert y to one hot vectors"
   ]
  },
  {
   "cell_type": "markdown",
   "metadata": {
    "colab_type": "text",
    "id": "sck3o256k93R"
   },
   "source": [
    "In order to have reproducible results, we can fix the seed value for random number generators of both numpy and tensorflow libraries."
   ]
  },
  {
   "cell_type": "code",
   "execution_count": null,
   "metadata": {
    "colab": {},
    "colab_type": "code",
    "id": "VKTtz5DRKo4W"
   },
   "outputs": [],
   "source": [
    "np.random.seed(1)\n",
    "tf.random.set_seed(2)"
   ]
  },
  {
   "cell_type": "markdown",
   "metadata": {
    "colab_type": "text",
    "id": "FTZOt9kklHMO"
   },
   "source": [
    "Then we can split our data and labels for training and testing. This is exactly the same procedure as the previous SVM notebook. "
   ]
  },
  {
   "cell_type": "code",
   "execution_count": null,
   "metadata": {
    "colab": {},
    "colab_type": "code",
    "id": "TF9sdB5zratl"
   },
   "outputs": [],
   "source": [
    "import numpy as np\n",
    "from sklearn.model_selection import StratifiedShuffleSplit\n",
    "\n",
    "# split data randomly into train & test sets by preserving train/test ratio across classes\n",
    "sss = StratifiedShuffleSplit(n_splits=1, test_size=0.1, random_state=0)\n",
    "\n",
    "# get the train and test indexes\n",
    "train_index, test_index = next(sss.split(X, y))\n",
    "\n",
    "# split X and y into train & test sets\n",
    "X_train, X_test = X[train_index], X[test_index]\n",
    "y_train, y_test = y[train_index], y[test_index]"
   ]
  },
  {
   "cell_type": "markdown",
   "metadata": {
    "colab_type": "text",
    "id": "CsPktuR_lfO5"
   },
   "source": [
    "When training our deep learning model, we can see how it performs during the training. Since the training will be used to create deep learning model and test set will be used to calculate how the final model performs, we need additional set which will not be a part of either training or test sets. That dataset is called as **validation set**. We can follow above procedure to split training set into training and validation set."
   ]
  },
  {
   "cell_type": "code",
   "execution_count": null,
   "metadata": {
    "colab": {
     "base_uri": "https://localhost:8080/",
     "height": 69
    },
    "colab_type": "code",
    "id": "vyIzw454lfgg",
    "outputId": "71fc27a2-5ed2-40dc-c51e-dfaff8ca2adc"
   },
   "outputs": [],
   "source": [
    "# split training set into training and validation sets\n",
    "sss = StratifiedShuffleSplit(n_splits=1, test_size=0.15, random_state=0)\n",
    "\n",
    "train_index, val_index = next(sss.split(X_train, y_train))\n",
    "X_train, X_val = X[train_index], X[val_index]\n",
    "y_train, y_val = y[train_index], y[val_index]\n",
    "\n",
    "# Print statistics about it\n",
    "print(f\"Train data size: {len(y_train)}\")\n",
    "print(f\"Validation data size: {len(y_val)}\")\n",
    "print(f\"Test data size : {len(y_test)}\")"
   ]
  },
  {
   "cell_type": "markdown",
   "metadata": {
    "colab_type": "text",
    "id": "ZmZeRCANmOvb"
   },
   "source": [
    "# Convolutional Neural Network Model\n",
    "\n",
    "We have our data ready, let's create a deep learning model. To define a model, we'll use the **Keras** library comes with TensorFlow as it provides easy-to-use API for defining deep learning models. \n",
    "\n",
    "We'll use several deep learning layers to define a convolutional neural network. Let's peek Keras' documentation to find out what these layers do.\n",
    "\n",
    "\n",
    "## Dense\n",
    "\n",
    "A densely-connected NN layer. All the neurons/elements are connected to all the neurons/elements in the previous and next layer.\n",
    "\n",
    "## Dropout\n",
    "\n",
    "Drops the connection randomly in order to prevent memorizing/over-fitting the data.\n",
    "\n",
    "## Convolution (Covn2D)\n",
    "\n",
    "Learns spatially-correlated features. For low level features, it can be edges, corners, etc. For high level features, it can be eyes, mouth or nose of a human. \n",
    "\n",
    "![Sample Convolution operation.](assets/face-recog-tf2/conv.png) \n",
    "\n",
    "*Ref: Narges Khatami, Wikipedia*\n",
    "\n",
    "## Pooling (MaxPooling2D)\n",
    "\n",
    "Combines several neurons into one neuron and reduces the dimension. There are several types of pooling layers: Max pooling selects the neuron with the maximum value, Average pooling calculates the average value of all neurons, Min Pooling selects the the neuron with the minimum value. You can find a sample MaxPooling operation below:\n",
    "\n",
    "![Sample Max Pooling operation](assets/face-recog-tf2/max_pooling.png)\n",
    "\n",
    "*Ref: Aphex34, Wikipedia*\n",
    "\n",
    "## Flatten\n",
    "\n",
    "Gather all the matrix/tensor elements into a vector."
   ]
  },
  {
   "cell_type": "code",
   "execution_count": null,
   "metadata": {
    "colab": {},
    "colab_type": "code",
    "id": "d8oluIlfrbDm"
   },
   "outputs": [],
   "source": [
    "from tensorflow.keras.layers import Dense, Dropout, Conv2D, MaxPooling2D, Flatten\n",
    "from tensorflow.keras import Sequential\n",
    "\n",
    "\n",
    "model = Sequential()\n",
    "model.add(Conv2D(16, (2, 2), activation='relu', input_shape=X_train[0].shape))\n",
    "model.add(Conv2D(16, (2, 2), activation='relu'))\n",
    "model.add(MaxPooling2D(pool_size=(2, 2)))\n",
    "model.add(Dropout(0.25))\n",
    "\n",
    "model.add(Conv2D(32, (2, 2), activation='relu'))\n",
    "model.add(Conv2D(16, (2, 2), activation='relu'))\n",
    "model.add(MaxPooling2D(pool_size=(2, 2)))\n",
    "model.add(Dropout(0.25))\n",
    "\n",
    "model.add(Flatten())\n",
    "model.add(Dense(128, activation='relu'))\n",
    "model.add(Dropout(0.5))"
   ]
  },
  {
   "cell_type": "markdown",
   "metadata": {
    "colab_type": "text",
    "id": "VxZne9hYNe4d"
   },
   "source": [
    "We have the model and we need an output from that model. For output, we can use *Dense* layer with a `softmax` activation. The length of output vector will be the same as one hot vectors. Then to have a outline of how model looks like, we can use `model.summary()` and print the overall structure of CNN model. "
   ]
  },
  {
   "cell_type": "code",
   "execution_count": null,
   "metadata": {
    "colab": {
     "base_uri": "https://localhost:8080/",
     "height": 573
    },
    "colab_type": "code",
    "id": "VBk2T8zbNfwk",
    "outputId": "266b9724-f44a-466d-c30d-2b0925fe74b9"
   },
   "outputs": [],
   "source": [
    "model.add(Dense(num_class, activation='softmax'))\n",
    "model.summary()"
   ]
  },
  {
   "cell_type": "markdown",
   "metadata": {
    "colab_type": "text",
    "id": "fgQC7H_6ODaO"
   },
   "source": [
    "Since we have model ready, we need to find out how can we train that model. Unlike the previous machine learning notebook, we need to define every parameter and option when training deep learning models. \n",
    "\n",
    "To train a model, we need an `optimizer`, and a `cost`/`lost` function. Cost function defines how bad the model works. It gets smaller as it makes better predictions. Our aim is to reduce the cost and that's where `optimizer` help us.\n",
    "\n",
    "There are different cost functions for different purposes. In this face recognition problem, we try to tackle this as a classification problem and we have more than 2 classes. In that multi-class classification cases, we can use **categorical cross entropy** as our cost function. \n",
    "\n",
    "Like cost functions, there are many optimizers, too. We'll use the `Adam` optimizer for training our model. We also define `metrics` to see the performance of our model. To see how accurate our predictions are, we cam pass `accuracy` as a metric. \n",
    "\n",
    "We'll put all these together into `model.compile` function where cost function is indicated as `loss` and the rest remains the same."
   ]
  },
  {
   "cell_type": "code",
   "execution_count": null,
   "metadata": {
    "colab": {},
    "colab_type": "code",
    "id": "r8ta6Y3GODjw"
   },
   "outputs": [],
   "source": [
    "model.compile(optimizer=\"RMSProp\", loss=\"categorical_crossentropy\", metrics=['accuracy'])"
   ]
  },
  {
   "cell_type": "markdown",
   "metadata": {
    "colab_type": "text",
    "id": "EGqik981kgjb"
   },
   "source": [
    "# Training\n",
    "\n",
    "Let's train the model and see how that works. To do that, we can call `model.fit` function with train data and labels, namely `X_train` and `y_train`, respectively. The training data will be iterated over and over again for `epochs` times where we call each run as epoch. \n",
    "\n",
    "The model will not iterate all of the training data at once. Therefore it will be feeded in smaller chunks, defined as `batch_size`. In order to see how the training phase goes, we can specify validation data we prepared above as `validation_data` parameter to `model.fit` function. Calling this function will take time depending on how powerful your machine is. If you're running this on Colab, you can leverage hardware acceleration for faster training times from the `Runtime` - `Change Runtime` menu. Select either GPU or TPU enabled runtime and run all the cells again. "
   ]
  },
  {
   "cell_type": "code",
   "execution_count": null,
   "metadata": {
    "colab": {
     "base_uri": "https://localhost:8080/",
     "height": 1000
    },
    "colab_type": "code",
    "id": "reN00nKHtPge",
    "outputId": "a3b0c9d6-0f7b-4340-be1b-0f06f98d7d77"
   },
   "outputs": [],
   "source": [
    "model.fit(X_train, y_train, epochs=50, batch_size=32, validation_data=(X_val, y_val));"
   ]
  },
  {
   "cell_type": "markdown",
   "metadata": {
    "colab_type": "text",
    "id": "L7e5iR2BluPR"
   },
   "source": [
    "Now we have trained our model. We know how it behaves on training and validation data. At that point, we have a ready-to-use model. We can deploy this model to a real world application. Before that, we need to test how it performs on the test set. The following procedure will predict the test set classes (person in the dataset). Then compares predictions with the ground truth values. After that we have outputs for each metric we compiled the model with. (Note that, loss comes as a built-in metric)\n",
    "\n",
    "To see accuracy results, we can call `model.evaluate` function and provide test data and ground truth labels, namely `y_test`.  Then we can print the accuracy as percentage by multiplyting the `accuracy` value by 100."
   ]
  },
  {
   "cell_type": "code",
   "execution_count": null,
   "metadata": {
    "colab": {
     "base_uri": "https://localhost:8080/",
     "height": 34
    },
    "colab_type": "code",
    "id": "y7yp4-2JtXhX",
    "outputId": "93c499f0-15f7-437f-9a28-93af64f6becf"
   },
   "outputs": [],
   "source": [
    "loss, accuracy = model.evaluate(X_test, y_test, verbose=False)\n",
    "print(f\"Accuracy: {accuracy*100:.2f}%\")"
   ]
  }
 ],
 "metadata": {
  "accelerator": "GPU",
  "colab": {
   "collapsed_sections": [],
   "name": "Face Recognition with TensorFlow 2.0.ipynb",
   "provenance": []
  },
  "kernel_info": {
   "name": "python3"
  },
  "kernelspec": {
   "display_name": "Python 3",
   "language": "python",
   "name": "python3"
  },
  "language_info": {
   "codemirror_mode": {
    "name": "ipython",
    "version": 3
   },
   "file_extension": ".py",
   "mimetype": "text/x-python",
   "name": "python",
   "nbconvert_exporter": "python",
   "pygments_lexer": "ipython3",
   "version": "3.7.7"
  },
  "nteract": {
   "version": "0.15.0"
  }
 },
 "nbformat": 4,
 "nbformat_minor": 4
}
